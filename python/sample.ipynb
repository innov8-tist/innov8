{
 "cells": [
  {
   "cell_type": "code",
   "execution_count": 1,
   "metadata": {},
   "outputs": [],
   "source": [
    "from typing import Dict\n",
    "import json\n",
    "from langgraph.graph import MessagesState\n",
    "from typing import Sequence\n",
    "from langchain_core.messages import BaseMessage\n",
    "from langgraph.graph.message import add_messages\n",
    "from typing_extensions import Annotated, TypedDict\n",
    "import uvicorn\n",
    "from typing_extensions import TypedDict\n",
    "from langgraph.graph import StateGraph, START, END\n",
    "from langgraph.types import Command, interrupt\n",
    "from langgraph.checkpoint.memory import MemorySaver\n",
    "from IPython.display import Image, display\n",
    "from langchain_community.utilities import SQLDatabase\n",
    "from langchain_community.agent_toolkits import create_sql_agent\n",
    "from langchain.agents import AgentType\n",
    "from langchain.memory import ConversationBufferMemory\n",
    "from langchain_groq import ChatGroq\n",
    "from langchain_google_genai import ChatGoogleGenerativeAI\n",
    "from langchain_together import ChatTogether\n",
    "from pydantic import Field,BaseModel"
   ]
  },
  {
   "cell_type": "code",
   "execution_count": 2,
   "metadata": {},
   "outputs": [
    {
     "name": "stdout",
     "output_type": "stream",
     "text": [
      "{'details': (7, 'Grace Lee', '159 Willow Way, GA', 8444556677, 'TD Bank', 23820)}\n"
     ]
    }
   ],
   "source": [
    "import psycopg2\n",
    "def fetch_balances():\n",
    "    try:\n",
    "        connection = psycopg2.connect(\n",
    "            dbname=\"bankapp\",\n",
    "            user=\"postgres\",\n",
    "            password=\"manu\",\n",
    "            host=\"localhost\",\n",
    "            port=5432\n",
    "        )\n",
    "        cursor = connection.cursor()\n",
    "        fetch_balance_query = \"SELECT * FROM users WHERE name = %s\"\n",
    "\n",
    "        cursor.execute(fetch_balance_query, ('Grace Lee',))\n",
    "        sender_details = cursor.fetchone()\n",
    "\n",
    "        if sender_details is None:\n",
    "            return {'messages': \"User 'Grace Lee' not found\"}\n",
    "\n",
    "        return {'details':sender_details }\n",
    "    \n",
    "    except Exception as e:\n",
    "        return {'messages': f\"An error occurred while fetching balances: {e}\"}\n",
    "    \n",
    "    finally:\n",
    "        if 'cursor' in locals():\n",
    "            cursor.close()\n",
    "        if 'connection' in locals():\n",
    "            connection.close()\n",
    "\n",
    "result = fetch_balances()\n",
    "print(result)\n",
    "\n"
   ]
  },
  {
   "cell_type": "code",
   "execution_count": 3,
   "metadata": {},
   "outputs": [
    {
     "name": "stdout",
     "output_type": "stream",
     "text": [
      "{'message': 'Transaction inserted successfully'}\n"
     ]
    }
   ],
   "source": [
    "import psycopg2\n",
    "from datetime import date  \n",
    "\n",
    "def insert_transaction(sen_name, rec_name, amount):\n",
    "    try:\n",
    "     \n",
    "        connection = psycopg2.connect(\n",
    "            dbname=\"userdetails\",\n",
    "            user=\"postgres\",\n",
    "            password=\"manu\",\n",
    "            host=\"localhost\",\n",
    "            port=5432\n",
    "        )\n",
    "        cursor = connection.cursor()\n",
    "        \n",
    "\n",
    "        transaction_date = date.today()\n",
    "\n",
    "\n",
    "        insert_query = \"\"\"\n",
    "        INSERT INTO transaction (sen_name, rec_name, amount, date) \n",
    "        VALUES (%s, %s, %s, %s)\n",
    "        \"\"\"\n",
    "        \n",
    " \n",
    "        cursor.execute(insert_query, (sen_name, rec_name, amount, transaction_date))\n",
    "        \n",
    "\n",
    "        connection.commit()\n",
    "        \n",
    "        return {'message': \"Transaction inserted successfully\"}\n",
    "    \n",
    "    except psycopg2.Error as e:\n",
    "        return {'message': f\"Database error: {e}\"}\n",
    "    \n",
    "    except Exception as e:\n",
    "        return {'message': f\"An unexpected error occurred: {e}\"}\n",
    "    \n",
    "    finally:\n",
    "\n",
    "        if 'cursor' in locals() and cursor:\n",
    "            cursor.close()\n",
    "        if 'connection' in locals() and connection:\n",
    "            connection.close()\n",
    "\n",
    "result = insert_transaction('Grace Lee', 'John Doe', 100.0)\n",
    "print(result)\n"
   ]
  },
  {
   "cell_type": "code",
   "execution_count": 4,
   "metadata": {},
   "outputs": [],
   "source": [
    "def fetch_balances1():\n",
    "    try:\n",
    "        connection = psycopg2.connect(\n",
    "            dbname=\"userdetails\",\n",
    "            user=\"postgres\",\n",
    "            password=\"manu\",\n",
    "            host=\"localhost\",\n",
    "            port=5432\n",
    "        )\n",
    "        cursor = connection.cursor()\n",
    "        fetch_balance_query = \"SELECT * FROM transaction WHERE sen_name = %s\"\n",
    "\n",
    "        cursor.execute(fetch_balance_query, ('Grace Lee',))\n",
    "        sender_details =cursor.fetchall()\n",
    "\n",
    "        if sender_details is None:\n",
    "            return {'messages': \"User 'Grace Lee' not found\"}\n",
    "\n",
    "        return {'details':sender_details }\n",
    "    \n",
    "    except Exception as e:\n",
    "        return {'messages': f\"An error occurred while fetching details: {e}\"}\n",
    "    \n",
    "    finally:\n",
    "        if 'cursor' in locals():\n",
    "            cursor.close()\n",
    "        if 'connection' in locals():\n",
    "            connection.close()\n"
   ]
  },
  {
   "cell_type": "code",
   "execution_count": 5,
   "metadata": {},
   "outputs": [],
   "source": [
    "result=fetch_balances1()"
   ]
  },
  {
   "cell_type": "code",
   "execution_count": 6,
   "metadata": {},
   "outputs": [
    {
     "data": {
      "text/plain": [
       "{'details': [('Grace Lee', 'John Doe', 100.0, datetime.date(2025, 2, 22)),\n",
       "  ('Grace Lee', 'Eve Adams', 1.0, datetime.date(2025, 2, 22)),\n",
       "  ('Grace Lee', 'Eve Adams', 1.0, datetime.date(2025, 2, 22)),\n",
       "  ('Grace Lee', 'Bob Johnson', 20.0, datetime.date(2025, 2, 22)),\n",
       "  ('Grace Lee', 'Bob Johnson', 30.0, datetime.date(2025, 2, 22)),\n",
       "  ('Grace Lee', 'John Doe', 100.0, datetime.date(2025, 3, 8))]}"
      ]
     },
     "execution_count": 6,
     "metadata": {},
     "output_type": "execute_result"
    }
   ],
   "source": [
    "result"
   ]
  },
  {
   "cell_type": "code",
   "execution_count": 7,
   "metadata": {},
   "outputs": [],
   "source": [
    "new_list=[]\n",
    "for datas in result['details']:\n",
    "    details={\n",
    "        \"name\":datas[1],\n",
    "        \"amount\":datas[2],\n",
    "        \"date\":datas[3]\n",
    "    }\n",
    "    new_list.append(details)    "
   ]
  },
  {
   "cell_type": "code",
   "execution_count": 8,
   "metadata": {},
   "outputs": [
    {
     "data": {
      "text/plain": [
       "[{'name': 'John Doe', 'amount': 100.0, 'date': datetime.date(2025, 2, 22)},\n",
       " {'name': 'Eve Adams', 'amount': 1.0, 'date': datetime.date(2025, 2, 22)},\n",
       " {'name': 'Eve Adams', 'amount': 1.0, 'date': datetime.date(2025, 2, 22)},\n",
       " {'name': 'Bob Johnson', 'amount': 20.0, 'date': datetime.date(2025, 2, 22)},\n",
       " {'name': 'Bob Johnson', 'amount': 30.0, 'date': datetime.date(2025, 2, 22)},\n",
       " {'name': 'John Doe', 'amount': 100.0, 'date': datetime.date(2025, 3, 8)}]"
      ]
     },
     "execution_count": 8,
     "metadata": {},
     "output_type": "execute_result"
    }
   ],
   "source": [
    "new_list"
   ]
  },
  {
   "cell_type": "code",
   "execution_count": null,
   "metadata": {},
   "outputs": [],
   "source": []
  }
 ],
 "metadata": {
  "kernelspec": {
   "display_name": "base",
   "language": "python",
   "name": "python3"
  },
  "language_info": {
   "codemirror_mode": {
    "name": "ipython",
    "version": 3
   },
   "file_extension": ".py",
   "mimetype": "text/x-python",
   "name": "python",
   "nbconvert_exporter": "python",
   "pygments_lexer": "ipython3",
   "version": "3.12.4"
  }
 },
 "nbformat": 4,
 "nbformat_minor": 2
}
