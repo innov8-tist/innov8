{
 "cells": [
  {
   "cell_type": "code",
   "execution_count": 1,
   "metadata": {},
   "outputs": [],
   "source": [
    "from typing import Dict\n",
    "import json\n",
    "from langgraph.graph import MessagesState\n",
    "from typing import Sequence\n",
    "from langchain_core.messages import BaseMessage\n",
    "from langgraph.graph.message import add_messages\n",
    "from typing_extensions import Annotated, TypedDict\n",
    "import uvicorn\n",
    "from typing_extensions import TypedDict\n",
    "from langgraph.graph import StateGraph, START, END\n",
    "from langgraph.types import Command, interrupt\n",
    "from langgraph.checkpoint.memory import MemorySaver\n",
    "from IPython.display import Image, display\n",
    "from langchain_community.utilities import SQLDatabase\n",
    "from langchain_community.agent_toolkits import create_sql_agent\n",
    "from langchain.agents import AgentType\n",
    "from langchain.memory import ConversationBufferMemory\n",
    "from langchain_groq import ChatGroq\n",
    "from langchain_google_genai import ChatGoogleGenerativeAI\n",
    "from langchain_together import ChatTogether\n",
    "from pydantic import Field,BaseModel"
   ]
  },
  {
   "cell_type": "code",
   "execution_count": 4,
   "metadata": {},
   "outputs": [],
   "source": [
    "\n",
    "llm = ChatGroq(\n",
    "    api_key=\"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\",\n",
    "    model_name=\"gemma2-9b-it\",\n",
    "    temperature=0,\n",
    ")\n"
   ]
  },
  {
   "cell_type": "code",
   "execution_count": 5,
   "metadata": {},
   "outputs": [
    {
     "name": "stdout",
     "output_type": "stream",
     "text": [
      "   stock                                 investment_insight\n",
      "0   AAPL  content=\"It sounds like you're in a bit of a t...\n",
      "1   TSLA  content=\"##  TSLA Investment Insights: High Ri...\n",
      "2  GOOGL  content=\"##  GOOGL Investment Insights: Riding...\n",
      "3   AMZN  content=\"##  AMZN Investment Insights: High Ri...\n",
      "4   MSFT  content=\"It sounds like you're looking for som...\n"
     ]
    }
   ],
   "source": [
    "import pandas as pd\n",
    "from langchain.llms import OpenAI\n",
    "from langchain.prompts import PromptTemplate\n",
    "\n",
    "# Sample Portfolio Data\n",
    "portfolio = pd.DataFrame({\n",
    "    'stock': ['AAPL', 'TSLA', 'GOOGL', 'AMZN', 'MSFT'],\n",
    "    'investment': [5000, 3000, 7000, 4000, 6000],\n",
    "    'risk_tolerance': ['Low', 'High', 'Medium', 'High', 'Low']\n",
    "})\n",
    "\n",
    "# Market Data (Simulated)\n",
    "market_trends = {\n",
    "    'AAPL': \"Apple is experiencing strong growth with new product launches.\",\n",
    "    'TSLA': \"Tesla stock is volatile due to regulatory concerns.\",\n",
    "    'GOOGL': \"Google's ad revenue is increasing, boosting its stock value.\",\n",
    "    'AMZN': \"Amazon faces supply chain issues, impacting profits.\",\n",
    "    'MSFT': \"Microsoft's cloud computing division is driving revenue growth.\"\n",
    "}\n",
    "\n",
    "# LangChain LLM Setup\n",
    " # Replace with your LLM API key\n",
    "prompt_template = PromptTemplate(\n",
    "    input_variables=[\"stock\", \"investment\", \"risk\", \"trend\"],\n",
    "    template=(\n",
    "        \"You have invested ${investment} in {stock} with a {risk} risk tolerance. \"\n",
    "        \"The current market trend for {stock} is: {trend}. \"\n",
    "        \"Provide personalized investment insights based on this information.\"\n",
    "    )\n",
    ")\n",
    "\n",
    "def generate_investment_insights(row):\n",
    "    prompt = prompt_template.format(\n",
    "        stock=row['stock'],\n",
    "        investment=row['investment'],\n",
    "        risk=row['risk_tolerance'],\n",
    "        trend=market_trends[row['stock']]\n",
    "    )\n",
    "    return llm.invoke(prompt)\n",
    "\n",
    "# Generate Insights for Each Stock\n",
    "portfolio['investment_insight'] = portfolio.apply(generate_investment_insights, axis=1)\n",
    "\n",
    "print(portfolio[['stock', 'investment_insight']])"
   ]
  },
  {
   "cell_type": "code",
   "execution_count": null,
   "metadata": {},
   "outputs": [],
   "source": []
  }
 ],
 "metadata": {
  "kernelspec": {
   "display_name": "base",
   "language": "python",
   "name": "python3"
  },
  "language_info": {
   "codemirror_mode": {
    "name": "ipython",
    "version": 3
   },
   "file_extension": ".py",
   "mimetype": "text/x-python",
   "name": "python",
   "nbconvert_exporter": "python",
   "pygments_lexer": "ipython3",
   "version": "3.12.4"
  }
 },
 "nbformat": 4,
 "nbformat_minor": 2
}
